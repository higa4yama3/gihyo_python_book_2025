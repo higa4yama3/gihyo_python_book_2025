{
 "cells": [
  {
   "cell_type": "markdown",
   "id": "2a087424",
   "metadata": {},
   "source": [
    "# 「球面上の巡回サンタ問題」を解いてみよう! サンタが街にやってくる"
   ]
  },
  {
   "cell_type": "markdown",
   "id": "d74f8a26",
   "metadata": {},
   "source": [
    "## 「世界各国を最小距離で巡るコース」を計算するWolfram言語スクリプトをPythonから呼ぶ"
   ]
  },
  {
   "cell_type": "code",
   "execution_count": null,
   "id": "8e7ec9a1",
   "metadata": {},
   "outputs": [],
   "source": [
    "from wolframclient.evaluation import WolframLanguageSession\n",
    "from wolframclient.language import wlexpr, wl\n",
    "\n",
    "session = WolframLanguageSession()\n",
    "\n",
    "#session = WolframLanguageSession('/Applications/Wolfram Engine.app/Contents/MacOS/WolframKernel') \n",
    "#session = WolframLanguageSession('/Applications/Wolfram Engine.app/Contents/Resources/Wolfram Player.app/Contents/MacOS/WolframKernel')\n",
    "#session = WolframLanguageSession('/Applications/Mathematica 12.3.1.app/Contents/MacOS/WolframKernel')"
   ]
  },
  {
   "cell_type": "code",
   "execution_count": 7,
   "id": "39c4e8a8",
   "metadata": {},
   "outputs": [],
   "source": [
    "# 限られた紙面で収めるために、文字数削減のために定義した関数\n",
    "def f(expression):\n",
    "    return session.evaluate(wlexpr(expression))"
   ]
  },
  {
   "cell_type": "code",
   "execution_count": 19,
   "id": "89e635b1",
   "metadata": {},
   "outputs": [
    {
     "data": {
      "text/plain": [
       "'worldmap.png'"
      ]
     },
     "execution_count": 19,
     "metadata": {},
     "output_type": "execute_result"
    }
   ],
   "source": [
    "# 「球面上で、世界各国を最小移動距離で一周する経路」を計算し、\n",
    "# その経路を画像保存する\n",
    "s=f('''places=CountryData[\"Countries\"];\n",
    "centers=Map[GeoPosition[CountryData[#,\"CenterCoordinates\"]]&,places];\n",
    "{dist,route}=FindShortestTour[centers];\n",
    "GeoGraphics[{Red,Thickness[0.005],GeoPath[centers[[route]]]}, \n",
    "GeoRange->\"World\",GeoBackground->GeoStyling[\"ReliefMap\"],ImageSize->2400]''')\n",
    "session.evaluate(wl.Export(\"worldmap.png\",s,\"PNG\"))"
   ]
  },
  {
   "cell_type": "markdown",
   "id": "36893122",
   "metadata": {},
   "source": [
    "##  「世界各国を最小距離で巡る航路」の緯度・経度リスト作成"
   ]
  },
  {
   "cell_type": "code",
   "execution_count": null,
   "id": "b2d9e607",
   "metadata": {},
   "outputs": [],
   "source": [
    "# 「球面上で、世界各国を最小移動距離で一周する経路」の経路を緯度経度リストにする\n",
    "f('''countryCenters=Map[First[GeoPositionXYZ[#]]&,centers[[route]]];\n",
    "arc[x_,y_]:=Module[{a},a=VectorAngle[x,y];\n",
    "Table[Evaluate[RotationTransform[\\[Theta],{x,y}][x]],{\\[Theta],0,a,a/Ceiling[10 a]}]]\n",
    "tourLine=Apply[arc,Partition[countryCenters,2,1],{1}];\n",
    "route=Map[QuantityMagnitude[LatitudeLongitude[GeoPositionXYZ[#]],\"AngularDegrees\"]&,  \n",
    "Flatten[tourLine,1],{1}]''')\n",
    "lat_lons =  f('route')"
   ]
  },
  {
   "cell_type": "markdown",
   "id": "6b931fd7",
   "metadata": {},
   "source": [
    "## 緯度・経度リストから、Google Earthで読み込むことができるKML形式ファイルを作成"
   ]
  },
  {
   "cell_type": "code",
   "execution_count": 9,
   "id": "da801c25",
   "metadata": {},
   "outputs": [],
   "source": [
    "# Google earthで可視化するために、前節記事の「航空機情報」形式に近づける\n",
    "from collections import namedtuple\n",
    "flights = []\n",
    "FlightPos=namedtuple('FlightPos',('longitude','latitude','altitude'))\n",
    "for lat_lon in lat_lons:\n",
    "    flights.append(FlightPos(latitude=lat_lon[0],longitude=lat_lon[1],\n",
    "                             altitude=100000))"
   ]
  },
  {
   "cell_type": "code",
   "execution_count": 12,
   "id": "0960a5f6",
   "metadata": {},
   "outputs": [],
   "source": [
    "# サンタの移動経路を、Google Earthで可視化する\n",
    "fname = 'flight_path'\n",
    "f = open(fname+'.kml', 'w')\n",
    "#Writing the kml file.\n",
    "f.write(\"<?xml version='1.0' encoding='UTF-8'?>\\n\")\n",
    "f.write(\"<kml xmlns='http://earth.google.com/kml/2.2'>\\n\")\n",
    "f.write(\"<Document>\\n\")\n",
    "f.write(\"   <name>flight</name>\\n\")\n",
    "\n",
    "for i in range(len(flights)-1):\n",
    "    \n",
    "    f.write(\"<Placemark>\\n\") \n",
    "    f.write(\"        <TimeSpan>\\n          <begin>\"\n",
    "      +'2015-12-02T%02i:%02i:%02iZ'%(12,30,0)\n",
    "      +\"</begin>\\n        </TimeSpan>\\n\")        \n",
    "    f.write(\"   <Style>\\n\")\n",
    "    f.write(\"   <LineStyle>\\n\")\n",
    "    f.write(\"   <color>800000ff</color>\\n\") # abgr\n",
    "\n",
    "    #f.write(\"   <width>0.2</width>\\n\")\n",
    "    \n",
    "    f.write(\"   <width>15</width>\\n\")\n",
    "    \n",
    "    f.write(\"   </LineStyle>\\n\")\n",
    "    f.write(\"   </Style>\\n\")\n",
    "    f.write(\"   <LineString>\\n\")\n",
    "    f.write(\"       <extrude>1</extrude>\\n\")\n",
    "    f.write(\"       <altitudeMode>absolute</altitudeMode>\\n\")\n",
    "    f.write(\"        <coordinates>\"\n",
    "            \n",
    "    #  +str(flight.longitude)+\",\"+str(flight.latitude)+\",\"+str(flight.altitude*0.3048)\n",
    "    #  +\" \"\n",
    "    #  +str(flight.longitude)+\",\"+str(flight.latitude)+\",\"+str(0)+\"</coordinates>\\n\")\n",
    "    \n",
    "      +str(flights[i].longitude)+\",\"+str(flights[i].latitude)+\",\"+str(flights[i].altitude)\n",
    "      +\" \"+str(flights[i+1].longitude)+\",\"+str(flights[i+1].latitude)+\",\"\n",
    "      +str(flights[i].altitude)+\"</coordinates>\\n\")\n",
    "    \n",
    "    f.write(\"   </LineString>\\n\")    \n",
    "    f.write(\"</Placemark>\\n\")    \n",
    "f.write(\"</Document>\")\n",
    "f.write(\"</kml>\\n\")\n",
    "f.close()"
   ]
  },
  {
   "cell_type": "markdown",
   "id": "23dd4ac7",
   "metadata": {},
   "source": [
    "## サンタ’[t]==こども’[t] という微分方程式を解いて、得られた解を画像で保存する"
   ]
  },
  {
   "cell_type": "code",
   "execution_count": 14,
   "id": "cc4583d3",
   "metadata": {},
   "outputs": [
    {
     "data": {
      "text/plain": [
       "'eq.png'"
      ]
     },
     "execution_count": 14,
     "metadata": {},
     "output_type": "execute_result"
    }
   ],
   "source": [
    "# サンタの微分方程式を解いて、得られた答えを画像として保存する\n",
    "s = \"eq=DSolve[サンタ'[t]==こども'[t],サンタ[t],t];\" \\\n",
    " + \"Rasterize[eq // TraditionalForm,ImageSize->2400]\"\n",
    "session.evaluate(wl.Export(\"eq.png\", f(s), \"PNG\"))"
   ]
  },
  {
   "cell_type": "code",
   "execution_count": null,
   "id": "c7d6ffe1",
   "metadata": {},
   "outputs": [],
   "source": []
  }
 ],
 "metadata": {
  "kernelspec": {
   "display_name": "Python 3 (ipykernel)",
   "language": "python",
   "name": "python3"
  },
  "language_info": {
   "codemirror_mode": {
    "name": "ipython",
    "version": 3
   },
   "file_extension": ".py",
   "mimetype": "text/x-python",
   "name": "python",
   "nbconvert_exporter": "python",
   "pygments_lexer": "ipython3",
   "version": "3.12.3"
  },
  "toc": {
   "base_numbering": 1,
   "nav_menu": {},
   "number_sections": true,
   "sideBar": true,
   "skip_h1_title": false,
   "title_cell": "Table of Contents",
   "title_sidebar": "Contents",
   "toc_cell": false,
   "toc_position": {},
   "toc_section_display": true,
   "toc_window_display": false
  }
 },
 "nbformat": 4,
 "nbformat_minor": 5
}
