{
 "cells": [
  {
   "cell_type": "markdown",
   "id": "95ba5930",
   "metadata": {},
   "source": [
    "# 美しく姿を変える 「ホログラム菓子」を作る 台所は工場、調理は製造、砂糖で作る光学レンズ素子"
   ]
  },
  {
   "cell_type": "markdown",
   "id": "3fed0e2c",
   "metadata": {},
   "source": [
    "## 「型枠を作るための“原型”」の 3D モデルを出力する Python コード"
   ]
  },
  {
   "cell_type": "code",
   "execution_count": 2,
   "id": "06d689ec",
   "metadata": {
    "scrolled": true
   },
   "outputs": [],
   "source": [
    "import math\n",
    "from solid import * # pip install solidpython\n",
    "\n",
    "def make_sphere_at_pos(size_d, xyz): # 直径, 場所[x,y,z]\n",
    "    return translate(xyz)(sphere(d=size_d, segments=4)) # 4は形状の滑らかさ\n",
    "\n",
    "def make_cube_at_pos(size_xyz, xyz):\n",
    "    return translate(xyz)(cube(size_xyz, center=True))\n",
    "\n",
    "x_num = 10#30 # 60 for 1.8mm, 40 for 3mm\n",
    "y_num = 10#30 # 60\n",
    "r = 1.5 # 0.9 # 1.5 # 球の半径（mm）\n",
    "d = 2 * r # 球の直径でもあり、広い方向のspaceでもある\n",
    "narrow_space=math.sqrt(3)*r # 狭い方向のspace\n",
    "base_thickness = 4  # 厚み(mm)\n",
    "base_height = 5     # 高さ(mm)\n",
    "base_over_height=10 # 余分な高さ（mm）\n",
    "edge_length = 3     # 周囲幅(mm)\n",
    "base_x_size = (x_num) * narrow_space+2*edge_length\n",
    "base_y_size = (x_num) * d + 2*edge_length\n",
    "base_x_outer_size = base_x_size + 2*base_thickness\n",
    "base_y_outer_size = base_y_size + 2*base_thickness\n",
    "silicone_thickness = 4 # mm\n",
    "\n",
    "# 直方体を作る\n",
    "mold_base = make_cube_at_pos([base_x_outer_size, \n",
    "                              base_y_outer_size,\n",
    "                              base_height+base_thickness+base_over_height],\n",
    "                             [base_x_size/2, \n",
    "                              base_y_size/2, \n",
    "                              (base_height+base_thickness+base_over_height)/2])\n",
    "# 直方体を削る\n",
    "mold_base = mold_base - make_cube_at_pos(\n",
    "                             [base_x_size, \n",
    "                              base_y_size,\n",
    "                              base_over_height+base_thickness],\n",
    "                             [base_x_size/2,\n",
    "                              base_y_size/2, \n",
    "                              base_height+base_thickness+(base_over_height+base_thickness)/2])\n",
    "# 周囲の「お堀」部分\n",
    "mold_base = mold_base - make_cube_at_pos(\n",
    "                             [base_x_size, \n",
    "                              silicone_thickness,\n",
    "                              base_height+base_over_height+base_thickness],\n",
    "                             [base_x_size/2,\n",
    "                              silicone_thickness/2, \n",
    "                              base_thickness+(base_height+base_over_height+base_thickness)/2])\n",
    "mold_base = mold_base - make_cube_at_pos(\n",
    "                             [silicone_thickness, \n",
    "                              base_y_size,\n",
    "                              base_height+base_over_height+base_thickness],\n",
    "                             [silicone_thickness/2,\n",
    "                              base_y_size/2, \n",
    "                              base_thickness+(base_height+base_over_height+base_thickness)/2])\n",
    "mold_base = mold_base - make_cube_at_pos(\n",
    "                             [base_x_size, \n",
    "                              silicone_thickness,\n",
    "                              base_height+base_over_height+base_thickness],\n",
    "                             [base_x_size/2,\n",
    "                              base_y_size-silicone_thickness/2, \n",
    "                              base_thickness+(base_height+base_over_height+base_thickness)/2])\n",
    "mold_base = mold_base - make_cube_at_pos(\n",
    "                             [silicone_thickness, \n",
    "                              base_y_size,\n",
    "                              base_height+base_over_height+base_thickness],\n",
    "                             [base_x_size-silicone_thickness/2,\n",
    "                              base_y_size/2, \n",
    "                              base_thickness+(base_height+base_over_height+base_thickness)/2])\n",
    "\n",
    "# 球形部分を除去（3Dプリンタだけで型を作るなら足すところだが、ビーズ球を使うため、抜く）\n",
    "spheres = []\n",
    "for y in range(y_num):\n",
    "    Y=y*d+r+edge_length\n",
    "    Z=base_height+base_thickness \n",
    "    for x in range(x_num):\n",
    "        X=x*narrow_space+r+edge_length\n",
    "        if x%2 == 0:\n",
    "            spheres.append( make_sphere_at_pos(d,[X,Y,Z])   )\n",
    "        else:\n",
    "            spheres.append( make_sphere_at_pos(d,[X,Y+r,Z]) )\n",
    "# 最終的に生成された形状\n",
    "mold_base = difference()(mold_base,spheres)\n",
    "# .scad ファイルに出力する\n",
    "scad_render_to_file(mold_base, \"lensMold.scad\")"
   ]
  },
  {
   "cell_type": "markdown",
   "id": "0d41cdd1",
   "metadata": {},
   "source": [
    "## 3Dプリンタで 出力できる .stlファイルに変換する"
   ]
  },
  {
   "cell_type": "code",
   "execution_count": 3,
   "id": "4c9e0580",
   "metadata": {},
   "outputs": [
    {
     "data": {
      "text/plain": [
       "'/Users/jun/source/SD/SD202312_hologram/lensMold.scad'"
      ]
     },
     "execution_count": 3,
     "metadata": {},
     "output_type": "execute_result"
    }
   ],
   "source": [
    "import subprocess\n",
    "\n",
    "# OpenSCADを使って、.scad ファイルをSTLファイルに変換する\n",
    "openscad = '/Applications/OpenSCAD.app/Contents/MacOS/OpenSCAD'\n",
    "subprocess.run([openscad, 'lensMold.scad','-o lensMold.stl','-q'])"
   ]
  },
  {
   "cell_type": "markdown",
   "id": "a5272518",
   "metadata": {},
   "source": [
    "## 方向(9 方向)に応じて、 異なる色が見える画像模様を作り出す Python コード"
   ]
  },
  {
   "cell_type": "code",
   "execution_count": null,
   "id": "7cdadf81",
   "metadata": {},
   "outputs": [],
   "source": [
    "import math\n",
    "\n",
    "x_num = 30 # \n",
    "y_num = 30 # \n",
    "r = 1.5    # 球の半径（mm）\n",
    "d = 2 * r  # 球の直径でもあり、  広い方向のspace ( in mm)\n",
    "narrow_space = math.sqrt(3)*r # 狭い方向のspace ( in mm)\n",
    "\n",
    "# ピクセル数を計算する（プリント時には、現物合わせで変倍する）\n",
    "pixels_x = int(narrow_space * x_num / 25.4 * 600)  # in pixel\n",
    "pixels_y = int(d * y_num / 25.4 * 600)             # in pixel\n",
    "# セルあたりピクセル数を計算する\n",
    "pixels_of_cell_in_y = int(pixels_y / y_num)\n",
    "pixels_of_cell_in_x = int(pixels_x / x_num)\n",
    "\n",
    "import numpy as np\n",
    "import cv2\n",
    "\n",
    "# 変角画像を読み込む\n",
    "files = [\"001.png\",\"002.png\",\"003.png\",\"004.png\",\"005.png\",\n",
    "         \"006.png\",\"007.png\",\"008.png\",\"009.png\"]\n",
    "images = [cv2.resize(cv2.imread(\"001.png\"), dsize=(x_num, y_num)) for f in files]\n",
    "\n",
    "import matplotlib.pyplot as plt\n",
    "\n",
    "# 変角画像を表示\n",
    "for image in images:\n",
    "    plt.imshow(cv2.cvtColor(image, cv2.COLOR_BGR2RGB))\n",
    "    plt.show()\n",
    "\n",
    "# テクスチャ画像バッファを生成する\n",
    "background_image2 = np.zeros([pixels_y, pixels_x, 3], dtype = 'uint8')\n",
    "\n",
    "# テクスチャ画像バッファに、レンズアレイ毎に「変角画像」を貼り付ける\n",
    "for y in range(y_num):\n",
    "    for x in range(x_num):\n",
    "        # 張り込む「変角」画像を生成する\n",
    "        patch = np.zeros( [ round(pixels_of_cell_in_y),\n",
    "                            round(pixels_of_cell_in_x), 3], \n",
    "                           dtype = 'uint8')\n",
    "        for y1 in range(3):\n",
    "            for x1 in range(3):\n",
    "                patch[ \n",
    "            round(y1*pixels_of_cell_in_y/3):round((y1+1)*pixels_of_cell_in_y/3),\n",
    "            round(x1*pixels_of_cell_in_x/3):round((x1+1)*pixels_of_cell_in_x/3)] = \\\n",
    "                images[3*y1+x1][y,x]\n",
    "        # 「変角」画像をテクスチャ画像バッファに貼り付ける\n",
    "        sy = round(y*pixels_of_cell_in_y)\n",
    "        if y%2 is 0: # 14列の行\n",
    "            if x < (x_num-1):\n",
    "                sx = round(x*pixels_of_cell_in_x+pixels_of_cell_in_x/2)\n",
    "                background_image2[sy:round(sy+pixels_of_cell_in_y), sx: \\\n",
    "                                  round(sx+pixels_of_cell_in_x)]= patch\n",
    "        else:        # 15列の行\n",
    "            sx = round(x*pixels_of_cell_in_x)\n",
    "            background_image2[sy:round(sy+pixels_of_cell_in_y), \\ \n",
    "                              sx:round(sx+pixels_of_cell_in_x)] = patch\n",
    "# テクスチャ画像を保存する\n",
    "cv2.imwrite('patch_30x30.png', background_image2)\n",
    "# テクスチャ画像を表示\n",
    "plt.figure(figsize=(4.217,4.217))\n",
    "plt.imshow(cv2.cvtColor(background_image2, cv2.COLOR_BGR2RGB))"
   ]
  }
 ],
 "metadata": {
  "kernelspec": {
   "display_name": "Python 3 (ipykernel)",
   "language": "python",
   "name": "python3"
  },
  "language_info": {
   "codemirror_mode": {
    "name": "ipython",
    "version": 3
   },
   "file_extension": ".py",
   "mimetype": "text/x-python",
   "name": "python",
   "nbconvert_exporter": "python",
   "pygments_lexer": "ipython3",
   "version": "3.12.3"
  },
  "toc": {
   "base_numbering": 1,
   "nav_menu": {},
   "number_sections": false,
   "sideBar": true,
   "skip_h1_title": false,
   "title_cell": "Table of Contents",
   "title_sidebar": "Contents",
   "toc_cell": false,
   "toc_position": {
    "height": "calc(100% - 180px)",
    "left": "10px",
    "top": "150px",
    "width": "232.796875px"
   },
   "toc_section_display": true,
   "toc_window_display": true
  }
 },
 "nbformat": 4,
 "nbformat_minor": 5
}
