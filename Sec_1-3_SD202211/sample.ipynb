{
 "cells": [
  {
   "cell_type": "markdown",
   "id": "fbb59bf9",
   "metadata": {},
   "source": [
    "# 世界を飛ぶ航空機の飛行情報 全地球を結ぶ空の道を可視化する ! 航空機情報をリアルタイムに手に入れる"
   ]
  },
  {
   "cell_type": "markdown",
   "id": "e595469f",
   "metadata": {},
   "source": [
    "## FR24 から情報取得し地図表示する"
   ]
  },
  {
   "cell_type": "code",
   "execution_count": null,
   "id": "84b78097",
   "metadata": {},
   "outputs": [],
   "source": [
    "from flightradar24.api \\\n",
    "import FlightRadar24API\n",
    "import folium\n",
    "\n",
    "# 航空機情報を取得するエリア\n",
    "bounds=\"60,22,113,176\" \n",
    "fr_api=FlightRadar24API()\n",
    "flights=fr_api.get_flights(\n",
    "             bounds=bounds)\n",
    "fmap = folium.Map(\n",
    "  location=[35,135],zoom_start=3)\n",
    "for f in flights:\n",
    "    folium.Marker(# マーカープロット\n",
    " location=[f.latitude,f.longitude],\n",
    " icon=folium.Icon(icon=\"plane\") \n",
    "    ).add_to(fmap)\n",
    "fmap            # 地図表示"
   ]
  },
  {
   "cell_type": "markdown",
   "id": "f94a9553",
   "metadata": {},
   "source": [
    "## データを一時保存・再読み込みする場合は、下記を有効化する"
   ]
  },
  {
   "cell_type": "code",
   "execution_count": null,
   "id": "90eba7df",
   "metadata": {},
   "outputs": [],
   "source": [
    "# データを一次保存用\n",
    "#import pickle\n",
    "\n",
    "# 書き込み時\n",
    "#with open('flights.bin', 'wb') as f:\n",
    "#    pickle.dump(flights , f)\n",
    "#with open('timeStamps.bin', 'wb') as f:\n",
    "#    pickle.dump(timeStamps , f)\n",
    "\n",
    "# 読み込み時は下記を実行する\n",
    "#with open('flights.bin', 'rb') as f:\n",
    "#    flights = pickle.load(f)\n",
    "#with open('timeStamps.bin', 'rb') as f:\n",
    "#    timeStamps = pickle.load(f)"
   ]
  },
  {
   "cell_type": "markdown",
   "id": "0da945ee",
   "metadata": {},
   "source": [
    "## FR24 から一定期間情報取得を行い、 KML 形式ファイルとして出力する"
   ]
  },
  {
   "cell_type": "code",
   "execution_count": null,
   "id": "6d6e5267",
   "metadata": {},
   "outputs": [],
   "source": [
    "import time\n",
    "from datetime import datetime\n",
    "\n",
    "flights = []; timeStamps=[]\n",
    "for i in range(60*6*4): # 10秒に１回、６０分の取得を続ける\n",
    "    flights.append(fr_api.get_flights(bounds=bounds))\n",
    "    timeStamps.append(datetime.now())\n",
    "    time.sleep(10)"
   ]
  },
  {
   "cell_type": "code",
   "execution_count": null,
   "id": "85e92d2f",
   "metadata": {},
   "outputs": [],
   "source": [
    "import numpy as np\n",
    "# (lat,lon,heading,l)の単位は(deg,deg,deg,m)\n",
    "def dstLatLon(lat, lon, heading, l): \n",
    "    lat0=l/(40000*1000)*360 # 地球１周(m)/360°\n",
    "    lon0=l/(40000*1000)*360/np.cos(np.deg2rad(lat))\n",
    "    lat0=lat0*np.cos(np.deg2rad(heading))\n",
    "    lon0=lon0*np.sin(np.deg2rad(heading))\n",
    "    return lat+lat0, lon+lon0"
   ]
  },
  {
   "cell_type": "code",
   "execution_count": null,
   "id": "5729e8fd",
   "metadata": {},
   "outputs": [],
   "source": [
    "f = open('flights.kml', 'w') # kml ファイルの保存先\n",
    "f.write(\"<?xml version='1.0' encoding='UTF-8'?>\\n\")\n",
    "f.write(\"<kml xmlns='http://earth.google.com/kml/2.2'>\\n\")\n",
    "f.write(\"<Document>\\n   <name>flight</name>\\n\")\n",
    "for i, t in enumerate(timeStamps):\n",
    "    fs = flights[i]\n",
    "    for fl in fs:\n",
    "        lat_d, lon_d = dstLatLon(fl.latitude, fl.longitude,\n",
    "                                 fl.heading, fl.ground_speed*5)\n",
    "        alt = fl.altitude*0.3048 # 飛行高度（フィート）をメートルに\n",
    "        f.write(\"<Placemark>\\n        <TimeSpan>\\n          <begin>\") \n",
    "        +'%04i-%02i-%02iT%02i:%02i:%02iZ'%(\n",
    "            t.year, t.month, t.day, t.hour, t.minute, t.second)\n",
    "        +\"</begin>\\n        </TimeSpan>\\n\")        \n",
    "        f.write(\"   <Style>\\n   <LineStyle>\\n\")\n",
    "        f.write(\"   <color>80ffff00</color>\\n\") # 色順はABGR\n",
    "        f.write(\"   <width>5</width>\\n   </LineStyle>\\n\")\n",
    "        f.write(\"   </Style>\\n   <LineString>\\n\")\n",
    "        f.write(\"       <extrude>0</extrude>\\n\")\n",
    "        f.write(\"       <altitudeMode>absolute</altitudeMode>\\n\")\n",
    "        f.write(\"        <coordinates>\" \n",
    "        +str(fl.longitude)+\",\"+str(fl.latitude)+\",\"+str(alt)\n",
    "        +\" \"+str(lon_d)+\",\"+str(lat_d)+\",\"+str(alt)+\"</coordinates>\\n\")    \n",
    "        f.write(\"   </LineString>\\n</Placemark>\\n\")    \n",
    "f.write(\"</Document></kml>\\n\"); f.close()"
   ]
  },
  {
   "cell_type": "code",
   "execution_count": null,
   "id": "b90f95df",
   "metadata": {},
   "outputs": [],
   "source": []
  }
 ],
 "metadata": {
  "kernelspec": {
   "display_name": "Python 3 (ipykernel)",
   "language": "python",
   "name": "python3"
  },
  "language_info": {
   "codemirror_mode": {
    "name": "ipython",
    "version": 3
   },
   "file_extension": ".py",
   "mimetype": "text/x-python",
   "name": "python",
   "nbconvert_exporter": "python",
   "pygments_lexer": "ipython3",
   "version": "3.12.3"
  },
  "toc": {
   "base_numbering": 1,
   "nav_menu": {},
   "number_sections": true,
   "sideBar": true,
   "skip_h1_title": false,
   "title_cell": "Table of Contents",
   "title_sidebar": "Contents",
   "toc_cell": false,
   "toc_position": {},
   "toc_section_display": true,
   "toc_window_display": false
  }
 },
 "nbformat": 4,
 "nbformat_minor": 5
}
